{
 "cells": [
  {
   "cell_type": "code",
   "execution_count": 1,
   "id": "6d33a422-7f60-484e-84e4-690f3873ebc4",
   "metadata": {},
   "outputs": [],
   "source": [
    "import numpy as np\n",
    "import pandas as pd\n",
    "import matplotlib.pyplot as plt\n",
    "import seaborn as sns\n",
    "\n",
    "from sklearn.model_selection import cross_val_score, RandomizedSearchCV, train_test_split\n",
    "from sklearn.linear_model import LogisticRegression\n",
    "from sklearn.neighbors import KNeighborsClassifier\n",
    "from sklearn.naive_bayes import GaussianNB\n",
    "from sklearn.tree import DecisionTreeClassifier\n",
    "from sklearn.ensemble import RandomForestClassifier\n",
    "\n",
    "from sklearn.impute import SimpleImputer\n",
    "from sklearn.compose import ColumnTransformer\n",
    "from sklearn.preprocessing import StandardScaler, LabelEncoder, OneHotEncoder\n",
    "from sklearn.pipeline import Pipeline \n",
    "\n",
    "from sklearn.metrics import r2_score, mean_absolute_error, mean_squared_error, accuracy_score, classification_report, confusion_matrix\n",
    "from sklearn.metrics import precision_score, recall_score, log_loss, roc_auc_score, roc_curve, RocCurveDisplay"
   ]
  },
  {
   "cell_type": "code",
   "execution_count": null,
   "id": "13e1b5be-5796-4498-a632-7325fc9b1d3d",
   "metadata": {},
   "outputs": [],
   "source": []
  },
  {
   "cell_type": "code",
   "execution_count": 2,
   "id": "effc4f57-c3ca-4b61-9de1-bb8606c6b479",
   "metadata": {},
   "outputs": [],
   "source": [
    "xl_df= pd.read_excel('../datasets/liver_data_with_metadata.xlsx')"
   ]
  },
  {
   "cell_type": "code",
   "execution_count": 3,
   "id": "84804b4c-1174-42a2-a3cb-1128bc400f24",
   "metadata": {},
   "outputs": [
    {
     "data": {
      "text/plain": [
       "Age of the patient                      0.000065\n",
       "Gender of the patient                   0.029390\n",
       "Total Bilirubin                         0.021114\n",
       "Direct Bilirubin                        0.018279\n",
       " Alkphos Alkaline Phosphotase           0.025936\n",
       " Sgpt Alamine Aminotransferase          0.017530\n",
       "Sgot Aspartate Aminotransferase         0.015053\n",
       "Total Protiens                          0.015086\n",
       " ALB Albumin                            0.016096\n",
       "A/G Ratio Albumin and Globulin Ratio    0.018214\n",
       "Result                                  0.000000\n",
       "dtype: float64"
      ]
     },
     "execution_count": 3,
     "metadata": {},
     "output_type": "execute_result"
    }
   ],
   "source": [
    "xl_df.isna().sum()/len(xl_df)"
   ]
  },
  {
   "cell_type": "code",
   "execution_count": 4,
   "id": "acc04f32-6eb8-4819-b42b-db45fa3b71fc",
   "metadata": {},
   "outputs": [],
   "source": [
    "xl_df.drop_duplicates(inplace=True)"
   ]
  },
  {
   "cell_type": "code",
   "execution_count": null,
   "id": "928a25de-0c7b-4e08-aafb-a2fdd94eacf6",
   "metadata": {},
   "outputs": [],
   "source": []
  },
  {
   "cell_type": "code",
   "execution_count": 5,
   "id": "80d0fea9-e515-4bf9-a595-bc36c57c3b44",
   "metadata": {
    "scrolled": true
   },
   "outputs": [
    {
     "data": {
      "text/html": [
       "<div>\n",
       "<style scoped>\n",
       "    .dataframe tbody tr th:only-of-type {\n",
       "        vertical-align: middle;\n",
       "    }\n",
       "\n",
       "    .dataframe tbody tr th {\n",
       "        vertical-align: top;\n",
       "    }\n",
       "\n",
       "    .dataframe thead th {\n",
       "        text-align: right;\n",
       "    }\n",
       "</style>\n",
       "<table border=\"1\" class=\"dataframe\">\n",
       "  <thead>\n",
       "    <tr style=\"text-align: right;\">\n",
       "      <th></th>\n",
       "      <th>Age of the patient</th>\n",
       "      <th>Total Bilirubin</th>\n",
       "      <th>Direct Bilirubin</th>\n",
       "      <th>Alkphos Alkaline Phosphotase</th>\n",
       "      <th>Sgpt Alamine Aminotransferase</th>\n",
       "      <th>Sgot Aspartate Aminotransferase</th>\n",
       "      <th>Total Protiens</th>\n",
       "      <th>ALB Albumin</th>\n",
       "      <th>A/G Ratio Albumin and Globulin Ratio</th>\n",
       "      <th>Result</th>\n",
       "    </tr>\n",
       "  </thead>\n",
       "  <tbody>\n",
       "    <tr>\n",
       "      <th>count</th>\n",
       "      <td>19367.000000</td>\n",
       "      <td>18811.000000</td>\n",
       "      <td>18878.000000</td>\n",
       "      <td>18674.000000</td>\n",
       "      <td>18909.000000</td>\n",
       "      <td>18975.000000</td>\n",
       "      <td>18998.000000</td>\n",
       "      <td>18955.000000</td>\n",
       "      <td>18932.000000</td>\n",
       "      <td>19368.000000</td>\n",
       "    </tr>\n",
       "    <tr>\n",
       "      <th>mean</th>\n",
       "      <td>43.809986</td>\n",
       "      <td>3.315767</td>\n",
       "      <td>1.515637</td>\n",
       "      <td>289.407411</td>\n",
       "      <td>80.598762</td>\n",
       "      <td>110.790672</td>\n",
       "      <td>6.494326</td>\n",
       "      <td>3.141045</td>\n",
       "      <td>0.945888</td>\n",
       "      <td>1.286917</td>\n",
       "    </tr>\n",
       "    <tr>\n",
       "      <th>std</th>\n",
       "      <td>16.454988</td>\n",
       "      <td>6.111851</td>\n",
       "      <td>2.863609</td>\n",
       "      <td>239.727272</td>\n",
       "      <td>181.134634</td>\n",
       "      <td>278.927937</td>\n",
       "      <td>1.089985</td>\n",
       "      <td>0.793602</td>\n",
       "      <td>0.322023</td>\n",
       "      <td>0.452334</td>\n",
       "    </tr>\n",
       "    <tr>\n",
       "      <th>min</th>\n",
       "      <td>4.000000</td>\n",
       "      <td>0.400000</td>\n",
       "      <td>0.100000</td>\n",
       "      <td>63.000000</td>\n",
       "      <td>10.000000</td>\n",
       "      <td>10.000000</td>\n",
       "      <td>2.700000</td>\n",
       "      <td>0.900000</td>\n",
       "      <td>0.300000</td>\n",
       "      <td>1.000000</td>\n",
       "    </tr>\n",
       "    <tr>\n",
       "      <th>25%</th>\n",
       "      <td>32.000000</td>\n",
       "      <td>0.800000</td>\n",
       "      <td>0.200000</td>\n",
       "      <td>175.000000</td>\n",
       "      <td>23.000000</td>\n",
       "      <td>25.000000</td>\n",
       "      <td>5.800000</td>\n",
       "      <td>2.600000</td>\n",
       "      <td>0.700000</td>\n",
       "      <td>1.000000</td>\n",
       "    </tr>\n",
       "    <tr>\n",
       "      <th>50%</th>\n",
       "      <td>45.000000</td>\n",
       "      <td>1.000000</td>\n",
       "      <td>0.300000</td>\n",
       "      <td>208.000000</td>\n",
       "      <td>35.000000</td>\n",
       "      <td>42.000000</td>\n",
       "      <td>6.600000</td>\n",
       "      <td>3.100000</td>\n",
       "      <td>0.930000</td>\n",
       "      <td>1.000000</td>\n",
       "    </tr>\n",
       "    <tr>\n",
       "      <th>75%</th>\n",
       "      <td>55.000000</td>\n",
       "      <td>2.600000</td>\n",
       "      <td>1.300000</td>\n",
       "      <td>298.000000</td>\n",
       "      <td>61.000000</td>\n",
       "      <td>88.000000</td>\n",
       "      <td>7.200000</td>\n",
       "      <td>3.800000</td>\n",
       "      <td>1.100000</td>\n",
       "      <td>2.000000</td>\n",
       "    </tr>\n",
       "    <tr>\n",
       "      <th>max</th>\n",
       "      <td>90.000000</td>\n",
       "      <td>75.000000</td>\n",
       "      <td>19.700000</td>\n",
       "      <td>2110.000000</td>\n",
       "      <td>2000.000000</td>\n",
       "      <td>4929.000000</td>\n",
       "      <td>9.600000</td>\n",
       "      <td>5.500000</td>\n",
       "      <td>2.800000</td>\n",
       "      <td>2.000000</td>\n",
       "    </tr>\n",
       "  </tbody>\n",
       "</table>\n",
       "</div>"
      ],
      "text/plain": [
       "       Age of the patient  Total Bilirubin  Direct Bilirubin  \\\n",
       "count        19367.000000     18811.000000      18878.000000   \n",
       "mean            43.809986         3.315767          1.515637   \n",
       "std             16.454988         6.111851          2.863609   \n",
       "min              4.000000         0.400000          0.100000   \n",
       "25%             32.000000         0.800000          0.200000   \n",
       "50%             45.000000         1.000000          0.300000   \n",
       "75%             55.000000         2.600000          1.300000   \n",
       "max             90.000000        75.000000         19.700000   \n",
       "\n",
       "        Alkphos Alkaline Phosphotase   Sgpt Alamine Aminotransferase  \\\n",
       "count                   18674.000000                    18909.000000   \n",
       "mean                      289.407411                       80.598762   \n",
       "std                       239.727272                      181.134634   \n",
       "min                        63.000000                       10.000000   \n",
       "25%                       175.000000                       23.000000   \n",
       "50%                       208.000000                       35.000000   \n",
       "75%                       298.000000                       61.000000   \n",
       "max                      2110.000000                     2000.000000   \n",
       "\n",
       "       Sgot Aspartate Aminotransferase  Total Protiens   ALB Albumin  \\\n",
       "count                     18975.000000    18998.000000  18955.000000   \n",
       "mean                        110.790672        6.494326      3.141045   \n",
       "std                         278.927937        1.089985      0.793602   \n",
       "min                          10.000000        2.700000      0.900000   \n",
       "25%                          25.000000        5.800000      2.600000   \n",
       "50%                          42.000000        6.600000      3.100000   \n",
       "75%                          88.000000        7.200000      3.800000   \n",
       "max                        4929.000000        9.600000      5.500000   \n",
       "\n",
       "       A/G Ratio Albumin and Globulin Ratio        Result  \n",
       "count                          18932.000000  19368.000000  \n",
       "mean                               0.945888      1.286917  \n",
       "std                                0.322023      0.452334  \n",
       "min                                0.300000      1.000000  \n",
       "25%                                0.700000      1.000000  \n",
       "50%                                0.930000      1.000000  \n",
       "75%                                1.100000      2.000000  \n",
       "max                                2.800000      2.000000  "
      ]
     },
     "execution_count": 5,
     "metadata": {},
     "output_type": "execute_result"
    }
   ],
   "source": [
    "xl_df.describe()"
   ]
  },
  {
   "cell_type": "code",
   "execution_count": 6,
   "id": "ec8b7f26-30bb-4ab5-9034-da80aa41fd84",
   "metadata": {},
   "outputs": [
    {
     "data": {
      "image/png": "[encoded data removed]",
      "text/plain": [
       "<Figure size 1400x800 with 1 Axes>"
      ]
     },
     "metadata": {},
     "output_type": "display_data"
    }
   ],
   "source": [
    "plt.figure(figsize=(14,8))\n",
    "xl_df.boxplot()\n",
    "plt.xticks(rotation=45)\n",
    "plt.show()"
   ]
  },
  {
   "cell_type": "markdown",
   "id": "8a40e6e9-e9a9-4475-b8ef-a44b55bdf1de",
   "metadata": {},
   "source": [
    "### imputing missing values"
   ]
  },
  {
   "cell_type": "code",
   "execution_count": 7,
   "id": "687e32bd-408d-487b-abc1-3ffc93d997b2",
   "metadata": {},
   "outputs": [
    {
     "data": {
      "text/plain": [
       "Age of the patient                      0.000052\n",
       "Gender of the patient                   0.041099\n",
       "Total Bilirubin                         0.028759\n",
       "Direct Bilirubin                        0.025299\n",
       " Alkphos Alkaline Phosphotase           0.035832\n",
       " Sgpt Alamine Aminotransferase          0.023699\n",
       "Sgot Aspartate Aminotransferase         0.020291\n",
       "Total Protiens                          0.019104\n",
       " ALB Albumin                            0.021324\n",
       "A/G Ratio Albumin and Globulin Ratio    0.022511\n",
       "Result                                  0.000000\n",
       "dtype: float64"
      ]
     },
     "execution_count": 7,
     "metadata": {},
     "output_type": "execute_result"
    }
   ],
   "source": [
    "xl_df.isna().sum() / len(xl_df)"
   ]
  },
  {
   "cell_type": "markdown",
   "id": "df767f3c-fcde-4140-a43f-ad006c6ff6c0",
   "metadata": {},
   "source": [
    "### label representation\n",
    "- \"1\" likely represents a patient with liver disease (positive case).\n",
    "- \"2\" likely represents a healthy patient (negative case)."
   ]
  },
  {
   "cell_type": "code",
   "execution_count": 8,
   "id": "bf17727f-cb3e-4ee4-a7c2-e3ca8b0c2b89",
   "metadata": {},
   "outputs": [],
   "source": [
    "# split features and label\n",
    "X= xl_df.iloc[:,:-1]\n",
    "y= xl_df.iloc[:,-1]\n",
    "\n",
    "#split train and test set\n",
    "X_train,X_test,y_train,y_test= train_test_split(X,y, test_size=0.2, random_state=6)"
   ]
  },
  {
   "cell_type": "code",
   "execution_count": 9,
   "id": "63006cfe-fa25-48ee-9e96-78675c254293",
   "metadata": {},
   "outputs": [
    {
     "data": {
      "text/plain": [
       "0.7187298309022847"
      ]
     },
     "execution_count": 9,
     "metadata": {},
     "output_type": "execute_result"
    }
   ],
   "source": [
    "cat_cols= X.select_dtypes(include='object').columns\n",
    "numeric_cols= X.select_dtypes(exclude='object').columns\n",
    "\n",
    "# preprocessing for numeric features \n",
    "numeric_preprocessor= Pipeline(steps= [\n",
    "    ('imputer',SimpleImputer(strategy='mean')),        \n",
    "    ('scaler', StandardScaler())\n",
    "])\n",
    "\n",
    "# preprocessing for categorical feature\n",
    "categorical_preprocessor= Pipeline(steps=[\n",
    "    ('cat_impute',SimpleImputer(strategy='most_frequent')),\n",
    "    ('encode', OneHotEncoder(handle_unknown='ignore', sparse_output=False)), \n",
    "])\n",
    "\n",
    "# combine both numeric and categorical transformer \n",
    "preprocessor = ColumnTransformer(transformers=[\n",
    "    ('num-pipeline', numeric_preprocessor, numeric_cols),    \n",
    "    ('cat-pipeline', categorical_preprocessor, cat_cols)],\n",
    "                                 remainder='passthrough')\n",
    "\n",
    "# create a pipeline for preprocessing and model training\n",
    "pipeline = Pipeline(steps=[\n",
    "    ('preprocess',preprocessor),\n",
    "    ('model',LogisticRegression())\n",
    "])\n",
    "\n",
    "del_y_train= y_train\n",
    "del_y_test= y_test\n",
    "\n",
    "# encode label as [0,1] form [1,2]\n",
    "label_encoder= LabelEncoder()\n",
    "y_train= label_encoder.fit_transform(y_train)\n",
    "y_test= label_encoder.transform(y_test)\n",
    "\n",
    "pipeline.fit(X_train,y_train).score(X_train,y_train)"
   ]
  },
  {
   "cell_type": "markdown",
   "id": "263cc824-ded8-4d7b-8501-b4d07c7ea81b",
   "metadata": {},
   "source": [
    "- pipeline - works squentially (one after another)\n",
    "- column transformer - works parallelly"
   ]
  },
  {
   "cell_type": "code",
   "execution_count": 10,
   "id": "42b48571-3620-4d65-9e82-9cac39b37947",
   "metadata": {},
   "outputs": [],
   "source": [
    "X_train= preprocessor.fit_transform(X_train)\n",
    "X_test= preprocessor.transform(X_test)"
   ]
  },
  {
   "cell_type": "code",
   "execution_count": 11,
   "id": "a4784759-c909-44b5-bb53-0952ab37d3ab",
   "metadata": {},
   "outputs": [],
   "source": [
    "def show_scores(model, X_train,X_test,y_train,y_test):\n",
    "    model.fit(X_train,y_train)\n",
    "    train_preds= model.predict(X_train)\n",
    "    test_preds= model.predict(X_test)\n",
    "    print('Train accuracy',accuracy_score(y_train,train_preds))\n",
    "    print('Test accuracy',accuracy_score(y_test,test_preds))\n",
    "    print('Train classification \\n\\n',classification_report(y_train,train_preds))\n",
    "    print('Test classification \\n\\n',classification_report(y_test,test_preds))\n",
    "    "
   ]
  },
  {
   "cell_type": "code",
   "execution_count": 12,
   "id": "7fd22f29-34d9-4ba2-b38f-69999032e58c",
   "metadata": {},
   "outputs": [
    {
     "name": "stdout",
     "output_type": "stream",
     "text": [
      "\n",
      " LogisticRegression()\n",
      "Train accuracy 0.7187298309022847\n",
      "Test accuracy 0.725090345895715\n",
      "Train classification \n",
      "\n",
      "               precision    recall  f1-score   support\n",
      "\n",
      "           0       0.74      0.93      0.83     11018\n",
      "           1       0.54      0.19      0.28      4476\n",
      "\n",
      "    accuracy                           0.72     15494\n",
      "   macro avg       0.64      0.56      0.55     15494\n",
      "weighted avg       0.68      0.72      0.67     15494\n",
      "\n",
      "Test classification \n",
      "\n",
      "               precision    recall  f1-score   support\n",
      "\n",
      "           0       0.75      0.93      0.83      2793\n",
      "           1       0.52      0.19      0.27      1081\n",
      "\n",
      "    accuracy                           0.73      3874\n",
      "   macro avg       0.63      0.56      0.55      3874\n",
      "weighted avg       0.68      0.73      0.68      3874\n",
      "\n",
      "\n",
      " KNeighborsClassifier()\n",
      "Train accuracy 0.9213243836323738\n",
      "Test accuracy 0.871708828084667\n",
      "Train classification \n",
      "\n",
      "               precision    recall  f1-score   support\n",
      "\n",
      "           0       0.94      0.95      0.95     11018\n",
      "           1       0.88      0.84      0.86      4476\n",
      "\n",
      "    accuracy                           0.92     15494\n",
      "   macro avg       0.91      0.90      0.90     15494\n",
      "weighted avg       0.92      0.92      0.92     15494\n",
      "\n",
      "Test classification \n",
      "\n",
      "               precision    recall  f1-score   support\n",
      "\n",
      "           0       0.91      0.92      0.91      2793\n",
      "           1       0.78      0.75      0.77      1081\n",
      "\n",
      "    accuracy                           0.87      3874\n",
      "   macro avg       0.84      0.83      0.84      3874\n",
      "weighted avg       0.87      0.87      0.87      3874\n",
      "\n",
      "\n",
      " GaussianNB()\n",
      "Train accuracy 0.5599586936878792\n",
      "Test accuracy 0.5578213732576148\n",
      "Train classification \n",
      "\n",
      "               precision    recall  f1-score   support\n",
      "\n",
      "           0       0.96      0.40      0.56     11018\n",
      "           1       0.39      0.96      0.56      4476\n",
      "\n",
      "    accuracy                           0.56     15494\n",
      "   macro avg       0.68      0.68      0.56     15494\n",
      "weighted avg       0.80      0.56      0.56     15494\n",
      "\n",
      "Test classification \n",
      "\n",
      "               precision    recall  f1-score   support\n",
      "\n",
      "           0       0.96      0.40      0.57      2793\n",
      "           1       0.38      0.96      0.55      1081\n",
      "\n",
      "    accuracy                           0.56      3874\n",
      "   macro avg       0.67      0.68      0.56      3874\n",
      "weighted avg       0.80      0.56      0.56      3874\n",
      "\n",
      "\n",
      " DecisionTreeClassifier()\n",
      "Train accuracy 0.9999354588873112\n",
      "Test accuracy 0.9837377387712958\n",
      "Train classification \n",
      "\n",
      "               precision    recall  f1-score   support\n",
      "\n",
      "           0       1.00      1.00      1.00     11018\n",
      "           1       1.00      1.00      1.00      4476\n",
      "\n",
      "    accuracy                           1.00     15494\n",
      "   macro avg       1.00      1.00      1.00     15494\n",
      "weighted avg       1.00      1.00      1.00     15494\n",
      "\n",
      "Test classification \n",
      "\n",
      "               precision    recall  f1-score   support\n",
      "\n",
      "           0       0.99      0.99      0.99      2793\n",
      "           1       0.97      0.97      0.97      1081\n",
      "\n",
      "    accuracy                           0.98      3874\n",
      "   macro avg       0.98      0.98      0.98      3874\n",
      "weighted avg       0.98      0.98      0.98      3874\n",
      "\n",
      "\n",
      " RandomForestClassifier()\n",
      "Train accuracy 0.9999354588873112\n",
      "Test accuracy 0.9909654104284977\n",
      "Train classification \n",
      "\n",
      "               precision    recall  f1-score   support\n",
      "\n",
      "           0       1.00      1.00      1.00     11018\n",
      "           1       1.00      1.00      1.00      4476\n",
      "\n",
      "    accuracy                           1.00     15494\n",
      "   macro avg       1.00      1.00      1.00     15494\n",
      "weighted avg       1.00      1.00      1.00     15494\n",
      "\n",
      "Test classification \n",
      "\n",
      "               precision    recall  f1-score   support\n",
      "\n",
      "           0       0.99      1.00      0.99      2793\n",
      "           1       0.99      0.97      0.98      1081\n",
      "\n",
      "    accuracy                           0.99      3874\n",
      "   macro avg       0.99      0.99      0.99      3874\n",
      "weighted avg       0.99      0.99      0.99      3874\n",
      "\n"
     ]
    }
   ],
   "source": [
    "log_reg= LogisticRegression()\n",
    "knn= KNeighborsClassifier()\n",
    "gauss= GaussianNB()\n",
    "tree_model= DecisionTreeClassifier()\n",
    "rf_model= RandomForestClassifier()\n",
    "\n",
    "for model in [log_reg, knn, gauss, tree_model, rf_model]:\n",
    "    print('\\n',model)\n",
    "    show_scores(model, X_train, X_test,y_train,y_test)\n",
    "    "
   ]
  },
  {
   "cell_type": "code",
   "execution_count": null,
   "id": "94a45ff4-6d3f-4599-ad2f-989a57f66e42",
   "metadata": {},
   "outputs": [],
   "source": []
  },
  {
   "cell_type": "code",
   "execution_count": 13,
   "id": "be870602-9496-43ad-a795-bd2d6fe65d83",
   "metadata": {},
   "outputs": [],
   "source": [
    "del_model= RandomForestClassifier()\n",
    "del_model.fit(X_train, del_y_train)\n",
    "del_predictions = del_model.predict(X_test)"
   ]
  },
  {
   "cell_type": "code",
   "execution_count": 14,
   "id": "afa6421b-bda1-472d-8b84-bd31ebecd204",
   "metadata": {},
   "outputs": [],
   "source": [
    "test_model= RandomForestClassifier()\n",
    "test_model.fit(X_train, y_train)\n",
    "predictions = test_model.predict(X_test)"
   ]
  },
  {
   "cell_type": "code",
   "execution_count": 15,
   "id": "073789a0-eb75-4f99-a8f9-d3052164a50c",
   "metadata": {
    "scrolled": true
   },
   "outputs": [
    {
     "data": {
      "text/plain": [
       "(0.9919979349509551, 0.9919979349509551)"
      ]
     },
     "execution_count": 15,
     "metadata": {},
     "output_type": "execute_result"
    }
   ],
   "source": [
    "accuracy_score(del_y_test, del_predictions), accuracy_score(y_test, predictions)"
   ]
  },
  {
   "cell_type": "code",
   "execution_count": 16,
   "id": "abd37481-f958-4f4d-ad00-ad333f425206",
   "metadata": {},
   "outputs": [
    {
     "name": "stdout",
     "output_type": "stream",
     "text": [
      "accuracy:  0.9919979349509551\n",
      "precision:  0.996219281663516\n",
      "recall:  0.9750231267345051\n"
     ]
    }
   ],
   "source": [
    "print('accuracy: ', accuracy_score(y_test, predictions))\n",
    "print('precision: ', precision_score(y_test, predictions))\n",
    "print('recall: ', recall_score(y_test, predictions))"
   ]
  },
  {
   "cell_type": "code",
   "execution_count": 17,
   "id": "79f99225-338b-4029-9c1b-6c5d743e851f",
   "metadata": {},
   "outputs": [
    {
     "data": {
      "text/plain": [
       "0.9750231267345051"
      ]
     },
     "execution_count": 17,
     "metadata": {},
     "output_type": "execute_result"
    }
   ],
   "source": [
    "recall_score(y_test, predictions)"
   ]
  },
  {
   "cell_type": "code",
   "execution_count": 18,
   "id": "1c435810-4200-449c-add8-61fe083efe9f",
   "metadata": {},
   "outputs": [
    {
     "data": {
      "text/plain": [
       "{0, 1}"
      ]
     },
     "execution_count": 18,
     "metadata": {},
     "output_type": "execute_result"
    }
   ],
   "source": [
    "set(predictions)"
   ]
  },
  {
   "cell_type": "code",
   "execution_count": 19,
   "id": "1108916e-f563-450b-97b2-1f4d6a8d67f3",
   "metadata": {},
   "outputs": [
    {
     "data": {
      "text/plain": [
       "<sklearn.metrics._plot.roc_curve.RocCurveDisplay at 0x1bcf23d4c10>"
      ]
     },
     "execution_count": 19,
     "metadata": {},
     "output_type": "execute_result"
    },
    {
     "data": {
      "image/png": "[encoded data removed]",
      "text/plain": [
       "<Figure size 640x480 with 1 Axes>"
      ]
     },
     "metadata": {},
     "output_type": "display_data"
    }
   ],
   "source": [
    "RocCurveDisplay.from_estimator(test_model, X_test, y_test)"
   ]
  },
  {
   "cell_type": "code",
   "execution_count": 20,
   "id": "df456a97-08cc-4e21-946a-f2edbc711f9c",
   "metadata": {},
   "outputs": [
    {
     "data": {
      "text/plain": [
       "<sklearn.metrics._plot.roc_curve.RocCurveDisplay at 0x1bcf2578750>"
      ]
     },
     "execution_count": 20,
     "metadata": {},
     "output_type": "execute_result"
    },
    {
     "data": {
      "image/png": "[encoded data removed]",
      "text/plain": [
       "<Figure size 640x480 with 1 Axes>"
      ]
     },
     "metadata": {},
     "output_type": "display_data"
    }
   ],
   "source": [
    "RocCurveDisplay.from_predictions(y_test,predictions)"
   ]
  },
  {
   "cell_type": "code",
   "execution_count": 21,
   "id": "954750d4-5178-4494-bdc9-186c826cb4ff",
   "metadata": {},
   "outputs": [
    {
     "data": {
      "text/plain": [
       "array([[2789,    4],\n",
       "       [  27, 1054]], dtype=int64)"
      ]
     },
     "execution_count": 21,
     "metadata": {},
     "output_type": "execute_result"
    }
   ],
   "source": [
    "confusion_matrix(y_test, predictions)"
   ]
  },
  {
   "cell_type": "markdown",
   "id": "da2827ad-46a1-4884-bf3e-6ad2b08e1c83",
   "metadata": {},
   "source": [
    "Summary: Out of 2793 type 1(positive for disease) cases which is sensitive, the model is able to predict 2790 cases as correct and misleading 3 cases with accuracy of \n",
    "0.99 % which is good."
   ]
  },
  {
   "cell_type": "code",
   "execution_count": null,
   "id": "a0674897-b5d9-4221-a3fc-b8018fb19402",
   "metadata": {},
   "outputs": [],
   "source": []
  },
  {
   "cell_type": "code",
   "execution_count": 22,
   "id": "0abbc795-954b-44ee-8983-9f30dd06b5c5",
   "metadata": {},
   "outputs": [],
   "source": [
    "from xgboost import XGBClassifier\n",
    "xg_boost= XGBClassifier()\n",
    "xg_boost.fit(X_train,y_train)\n",
    "xg_pred= xg_boost.predict(X_test)"
   ]
  },
  {
   "cell_type": "code",
   "execution_count": 23,
   "id": "c8446aab-8c5c-4741-91c6-723f6b852e50",
   "metadata": {
    "scrolled": true
   },
   "outputs": [
    {
     "data": {
      "text/plain": [
       "0.9781871753521507"
      ]
     },
     "execution_count": 23,
     "metadata": {},
     "output_type": "execute_result"
    }
   ],
   "source": [
    "r2_score(y_test,xg_pred)"
   ]
  },
  {
   "cell_type": "code",
   "execution_count": 24,
   "id": "5290cb2f-4a79-4374-97fe-4a5af7dee1e1",
   "metadata": {},
   "outputs": [
    {
     "name": "stdout",
     "output_type": "stream",
     "text": [
      "              precision    recall  f1-score   support\n",
      "\n",
      "           1       0.99      1.00      0.99      2793\n",
      "           2       1.00      0.98      0.99      1081\n",
      "\n",
      "    accuracy                           0.99      3874\n",
      "   macro avg       0.99      0.99      0.99      3874\n",
      "weighted avg       0.99      0.99      0.99      3874\n",
      "\n",
      "              precision    recall  f1-score   support\n",
      "\n",
      "           0       0.99      1.00      0.99      2793\n",
      "           1       1.00      0.98      0.99      1081\n",
      "\n",
      "    accuracy                           0.99      3874\n",
      "   macro avg       0.99      0.99      0.99      3874\n",
      "weighted avg       0.99      0.99      0.99      3874\n",
      "\n",
      "              precision    recall  f1-score   support\n",
      "\n",
      "           0       1.00      1.00      1.00      2793\n",
      "           1       1.00      0.99      0.99      1081\n",
      "\n",
      "    accuracy                           1.00      3874\n",
      "   macro avg       1.00      0.99      0.99      3874\n",
      "weighted avg       1.00      1.00      1.00      3874\n",
      "\n"
     ]
    }
   ],
   "source": [
    "print(classification_report(del_y_test, del_predictions))\n",
    "print(classification_report(y_test, predictions))\n",
    "print(classification_report(y_test, xg_pred))"
   ]
  },
  {
   "cell_type": "code",
   "execution_count": null,
   "id": "ee7e568f-c374-4b0e-925e-ba2072a97375",
   "metadata": {},
   "outputs": [],
   "source": []
  },
  {
   "cell_type": "code",
   "execution_count": 25,
   "id": "a3853ec6-1c38-47fd-929a-21629211ecf8",
   "metadata": {},
   "outputs": [
    {
     "name": "stdout",
     "output_type": "stream",
     "text": [
      "accuracy:  0.9919979349509551\n",
      "precision:  0.9904119318181818\n",
      "recall:  0.9985678481919084\n",
      "\n",
      "\n",
      "accuracy:  0.9919979349509551\n",
      "precision:  0.996219281663516\n",
      "recall:  0.9750231267345051\n",
      "\n",
      "\n",
      "accuracy:  0.995611770779556\n",
      "precision:  0.996268656716418\n",
      "recall:  0.9879740980573543\n",
      "\n",
      "\n",
      "without label 25.98604127924734\n",
      "with label  0.2884236590249439\n",
      "xg_boost with label 0.15816781301367902\n"
     ]
    }
   ],
   "source": [
    "print('accuracy: ', accuracy_score(del_y_test, del_predictions))\n",
    "print('precision: ', precision_score(del_y_test, del_predictions))\n",
    "print('recall: ', recall_score(del_y_test, del_predictions))\n",
    "print('\\n')\n",
    "print('accuracy: ', accuracy_score(y_test, predictions))\n",
    "print('precision: ', precision_score(y_test, predictions))\n",
    "print('recall: ', recall_score(y_test, predictions))\n",
    "print('\\n')\n",
    "print('accuracy: ', accuracy_score(y_test, xg_pred))\n",
    "print('precision: ', precision_score(y_test, xg_pred))\n",
    "print('recall: ', recall_score(y_test, xg_pred))\n",
    "print('\\n')\n",
    "print('without label',log_loss(del_y_test, del_predictions))\n",
    "print('with label ', log_loss(y_test, predictions ))\n",
    "print('xg_boost with label', log_loss(y_test,xg_pred))"
   ]
  },
  {
   "cell_type": "code",
   "execution_count": 26,
   "id": "a2948e46-575b-4fed-8bfd-bfd7fdfd3f41",
   "metadata": {},
   "outputs": [
    {
     "name": "stdout",
     "output_type": "stream",
     "text": [
      "without label 25.98604127924734\n",
      "with label  0.2884236590249439\n",
      "xg_boost with label 0.15816781301367902\n"
     ]
    }
   ],
   "source": [
    "print('without label',log_loss(del_y_test, del_predictions))\n",
    "print('with label ', log_loss(y_test, predictions ))\n",
    "print('xg_boost with label', log_loss(y_test,xg_pred))"
   ]
  },
  {
   "cell_type": "code",
   "execution_count": 27,
   "id": "9421712d-05e2-4f97-8953-848388badc2c",
   "metadata": {},
   "outputs": [
    {
     "name": "stdout",
     "output_type": "stream",
     "text": [
      "[[2789    4]\n",
      " [  27 1054]]\n",
      "[[2789    4]\n",
      " [  27 1054]]\n",
      "[[2789    4]\n",
      " [  13 1068]]\n"
     ]
    }
   ],
   "source": [
    "print(confusion_matrix(del_y_test, del_predictions))\n",
    "print(confusion_matrix(y_test, predictions))\n",
    "print(confusion_matrix(y_test, xg_pred))"
   ]
  },
  {
   "cell_type": "code",
   "execution_count": null,
   "id": "aa81de4e-39f3-4f0e-a15a-20bace171505",
   "metadata": {},
   "outputs": [],
   "source": []
  },
  {
   "cell_type": "code",
   "execution_count": null,
   "id": "ebb1b144-2569-4cd9-9037-b703d0c57c0b",
   "metadata": {},
   "outputs": [],
   "source": []
  }
 ],
 "metadata": {
  "kernelspec": {
   "display_name": "Python 3 (ipykernel)",
   "language": "python",
   "name": "python3"
  },
  "language_info": {
   "codemirror_mode": {
    "name": "ipython",
    "version": 3
   },
   "file_extension": ".py",
   "mimetype": "text/x-python",
   "name": "python",
   "nbconvert_exporter": "python",
   "pygments_lexer": "ipython3",
   "version": "3.11.11"
  }
 },
 "nbformat": 4,
 "nbformat_minor": 5
}
